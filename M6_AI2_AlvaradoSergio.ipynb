{
  "nbformat": 4,
  "nbformat_minor": 0,
  "metadata": {
    "colab": {
      "provenance": [],
      "toc_visible": true,
      "authorship_tag": "ABX9TyMzvZZj8GeYsPj/Lyc/N/Fz",
      "include_colab_link": true
    },
    "kernelspec": {
      "name": "python3",
      "display_name": "Python 3"
    },
    "language_info": {
      "name": "python"
    }
  },
  "cells": [
    {
      "cell_type": "markdown",
      "metadata": {
        "id": "view-in-github",
        "colab_type": "text"
      },
      "source": [
        "<a href=\"https://colab.research.google.com/github/Alejandro-A-DS/Clasificacion_accidentes_cerebrovasculares/blob/main/M6_AI2_AlvaradoSergio.ipynb\" target=\"_parent\"><img src=\"https://colab.research.google.com/assets/colab-badge.svg\" alt=\"Open In Colab\"/></a>"
      ]
    },
    {
      "cell_type": "markdown",
      "source": [
        "# 6.2.Accidentes Cerebrovasculares\n",
        "---\n",
        "\n",
        "Según la Organización Mundial de la Salud (OMS), el accidente cerebrovascular es la segunda causa principal de muerte a nivel mundial, responsable de, aproximadamente, el 11% del total de muertes.\n",
        "\n",
        "Un accidente cerebrovascular ocurre cuando el suministro de sangre a una parte del cerebro se interrumpe o se reduce, lo que impide que el tejido cerebral reciba oxígeno y nutrientes. Las células cerebrales comienzan a morir en minutos.\n",
        "\n",
        "Este conjunto de datos se utiliza para predecir si es probable que un paciente sufra un accidente cerebrovascular en función de los parámetros de entrada como el sexo, la edad, diversas enfermedades y el tabaquismo. Cada fila de datos proporciona información relevante sobre el paciente.\n",
        "\n",
        "\n",
        "Información de atributos:\n",
        "\n",
        "- Id: identificador único.\n",
        "- Gender: sexo biológico del paciente (Masculino, Femenino u Otro).\n",
        "- Age: edad del paciente.\n",
        "- Hypertension: 0 si el paciente no tiene hipertensión, 1 si el paciente tiene hipertensión.\n",
        "- Heart_disease: 0 si el paciente no tiene ninguna enfermedad cardíaca, 1 si el paciente tiene una enfermedad cardíaca.\n",
        "- Ever_married: si ha estado alguna vez casado (No / Yes).\n",
        "- Work_type: tipo de trabajo (Children/Cuidado de hijos, Govt_job/funcionario del Gobierno, Never_worked/Nunca ha trabajado, Private/trabajador por cuenta ajena, Self-employeed/Trabajador por cuenta propia).\n",
        "- Residence_type: tipología de su lugar de residencia (Rural/Urbano).\n",
        "- Avg_glucose_level: nivel medio de glucosa en sangre.\n",
        "- Bmi: índice de masa corporal (IMC).\n",
        "- Smoking_status: Si alguna vez ha fumado o fuma (Fue fumador, Nunca ha fumado, - Fuma actualmente o Desconocido).\n",
        "- Stroke: 1 si el paciente tuvo un accidente cerebrovascular o 0 si no lo tuvo.\n",
        "\n",
        "Consideraciones:\n",
        "\n",
        "- \"Desconocido\" en smoking_status significa que la información no está disponible para este paciente.\n",
        "- IMC: peso en kilogramos dividido por el cuadrado de la talla en metros (kg/m2). Es un índice utilizado frecuentemente para clasificar el sobrepeso y la obesidad en personas adultas. La OMS define el sobrepeso como un IMC igual o superior a 25, y la obesidad como un IMC igual o superior a 30.\n",
        "- La hipertensión, también conocida como tensión arterial alta o elevada, es un trastorno en el que los vasos sanguíneos tienen una tensión persistentemente alta, lo que puede dañarlos. Cada vez que el corazón late, bombea sangre a los vasos y estos llevan la sangre a todas las partes del cuerpo. La tensión arterial es la fuerza que ejerce la sangre contra las paredes de los vasos (arterias) al ser bombeada por el corazón. Cuánto más alta es la tensión, más esfuerzo tiene que realizar el corazón para bombear. Para establecer el diagnóstico de hipertensión, se han de tomar mediciones dos días distintos y, en ambas lecturas, la tensión sistólica ha de ser superior o igual a 140 mmHg y la diastólica superior o igual a 90 mmHg.\n",
        "\n",
        "**Se pide:** aplicar el algoritmo de KNN para predecir accidentes cerebrovasculares en pacientes en función de las variables disponibles.\n",
        "\n",
        "**Con todos estos datos, os pedimos lo siguiente:**\n",
        "\n",
        "Preprocesado:\n",
        "\n",
        "1. Convertir todas las variables categóricas a numéricas (gender, ever_married, work_type, residence_type, smoking_status).\n",
        "- Existen 1544 personas de las que se desconoce si fuman o no; vamos a asignar también un número para esta posibilidad.\n",
        "- Existen 201 personas de las que se desconoce su BMI (IMC); vamos a eliminar estos casos para la generación del modelo al tratarse de un bajo porcentaje (4%).\n",
        "- Escalar los datos para su uso por el algoritmo.\n",
        "\n",
        "2. Generar un modelo con el algoritmo de KNN.\n",
        "\n",
        "3. Evaluación del modelo\n",
        "- Calcula el Accuracy.\n",
        "- Grafica la ROC-Curve.\n",
        "- Grafica la Confusion-Matrix.\n",
        "- Comenta los resultados.\n",
        "\n",
        "**Consideraciones:**\n",
        "\n",
        "Los resultados de los modelos pueden ser dispares dependiendo de diversos factores. No hay un modelo único correcto.\n",
        "En cuanto al algoritmo, se pide que se prueben diferentes parametrizaciones buscando un modelo que generalice correctamente (tratar de evitar sobreajuste y subajueste).\n",
        "Se valorará tanto la corrección de las respuestas como su presentación."
      ],
      "metadata": {
        "id": "PYHh_JWN4xfL"
      }
    },
    {
      "cell_type": "code",
      "source": [
        "# Librerías Necesarias\n",
        "\n",
        "import pandas as pd\n",
        "import numpy as np\n",
        "import seaborn as sns\n",
        "import matplotlib.pyplot as plt\n",
        "import random\n",
        "\n",
        "plt.rcParams['figure.dpi'] = 110"
      ],
      "metadata": {
        "id": "OJDBqRAQ64Kn"
      },
      "execution_count": null,
      "outputs": []
    },
    {
      "cell_type": "code",
      "execution_count": null,
      "metadata": {
        "colab": {
          "base_uri": "https://localhost:8080/",
          "height": 250
        },
        "id": "8UxxtV-i4m15",
        "outputId": "db32d9ef-7111-4f9e-8487-6ecb05e270f8"
      },
      "outputs": [
        {
          "output_type": "execute_result",
          "data": {
            "text/plain": [
              "   gender   age  hypertension  heart_disease ever_married      work_type  \\\n",
              "0    Male  67.0             0              1          Yes        Private   \n",
              "1  Female  61.0             0              0          Yes  Self-employed   \n",
              "2    Male  80.0             0              1          Yes        Private   \n",
              "3  Female  49.0             0              0          Yes        Private   \n",
              "4  Female  79.0             1              0          Yes  Self-employed   \n",
              "\n",
              "  Residence_type  avg_glucose_level   bmi   smoking_status  stroke  \n",
              "0          Urban             228.69  36.6  formerly smoked       1  \n",
              "1          Rural             202.21   NaN     never smoked       1  \n",
              "2          Rural             105.92  32.5     never smoked       1  \n",
              "3          Urban             171.23  34.4           smokes       1  \n",
              "4          Rural             174.12  24.0     never smoked       1  "
            ],
            "text/html": [
              "\n",
              "  <div id=\"df-8a5dd39d-6c7f-4fab-a9e1-aa46f0278037\">\n",
              "    <div class=\"colab-df-container\">\n",
              "      <div>\n",
              "<style scoped>\n",
              "    .dataframe tbody tr th:only-of-type {\n",
              "        vertical-align: middle;\n",
              "    }\n",
              "\n",
              "    .dataframe tbody tr th {\n",
              "        vertical-align: top;\n",
              "    }\n",
              "\n",
              "    .dataframe thead th {\n",
              "        text-align: right;\n",
              "    }\n",
              "</style>\n",
              "<table border=\"1\" class=\"dataframe\">\n",
              "  <thead>\n",
              "    <tr style=\"text-align: right;\">\n",
              "      <th></th>\n",
              "      <th>gender</th>\n",
              "      <th>age</th>\n",
              "      <th>hypertension</th>\n",
              "      <th>heart_disease</th>\n",
              "      <th>ever_married</th>\n",
              "      <th>work_type</th>\n",
              "      <th>Residence_type</th>\n",
              "      <th>avg_glucose_level</th>\n",
              "      <th>bmi</th>\n",
              "      <th>smoking_status</th>\n",
              "      <th>stroke</th>\n",
              "    </tr>\n",
              "  </thead>\n",
              "  <tbody>\n",
              "    <tr>\n",
              "      <th>0</th>\n",
              "      <td>Male</td>\n",
              "      <td>67.0</td>\n",
              "      <td>0</td>\n",
              "      <td>1</td>\n",
              "      <td>Yes</td>\n",
              "      <td>Private</td>\n",
              "      <td>Urban</td>\n",
              "      <td>228.69</td>\n",
              "      <td>36.6</td>\n",
              "      <td>formerly smoked</td>\n",
              "      <td>1</td>\n",
              "    </tr>\n",
              "    <tr>\n",
              "      <th>1</th>\n",
              "      <td>Female</td>\n",
              "      <td>61.0</td>\n",
              "      <td>0</td>\n",
              "      <td>0</td>\n",
              "      <td>Yes</td>\n",
              "      <td>Self-employed</td>\n",
              "      <td>Rural</td>\n",
              "      <td>202.21</td>\n",
              "      <td>NaN</td>\n",
              "      <td>never smoked</td>\n",
              "      <td>1</td>\n",
              "    </tr>\n",
              "    <tr>\n",
              "      <th>2</th>\n",
              "      <td>Male</td>\n",
              "      <td>80.0</td>\n",
              "      <td>0</td>\n",
              "      <td>1</td>\n",
              "      <td>Yes</td>\n",
              "      <td>Private</td>\n",
              "      <td>Rural</td>\n",
              "      <td>105.92</td>\n",
              "      <td>32.5</td>\n",
              "      <td>never smoked</td>\n",
              "      <td>1</td>\n",
              "    </tr>\n",
              "    <tr>\n",
              "      <th>3</th>\n",
              "      <td>Female</td>\n",
              "      <td>49.0</td>\n",
              "      <td>0</td>\n",
              "      <td>0</td>\n",
              "      <td>Yes</td>\n",
              "      <td>Private</td>\n",
              "      <td>Urban</td>\n",
              "      <td>171.23</td>\n",
              "      <td>34.4</td>\n",
              "      <td>smokes</td>\n",
              "      <td>1</td>\n",
              "    </tr>\n",
              "    <tr>\n",
              "      <th>4</th>\n",
              "      <td>Female</td>\n",
              "      <td>79.0</td>\n",
              "      <td>1</td>\n",
              "      <td>0</td>\n",
              "      <td>Yes</td>\n",
              "      <td>Self-employed</td>\n",
              "      <td>Rural</td>\n",
              "      <td>174.12</td>\n",
              "      <td>24.0</td>\n",
              "      <td>never smoked</td>\n",
              "      <td>1</td>\n",
              "    </tr>\n",
              "  </tbody>\n",
              "</table>\n",
              "</div>\n",
              "      <button class=\"colab-df-convert\" onclick=\"convertToInteractive('df-8a5dd39d-6c7f-4fab-a9e1-aa46f0278037')\"\n",
              "              title=\"Convert this dataframe to an interactive table.\"\n",
              "              style=\"display:none;\">\n",
              "        \n",
              "  <svg xmlns=\"http://www.w3.org/2000/svg\" height=\"24px\"viewBox=\"0 0 24 24\"\n",
              "       width=\"24px\">\n",
              "    <path d=\"M0 0h24v24H0V0z\" fill=\"none\"/>\n",
              "    <path d=\"M18.56 5.44l.94 2.06.94-2.06 2.06-.94-2.06-.94-.94-2.06-.94 2.06-2.06.94zm-11 1L8.5 8.5l.94-2.06 2.06-.94-2.06-.94L8.5 2.5l-.94 2.06-2.06.94zm10 10l.94 2.06.94-2.06 2.06-.94-2.06-.94-.94-2.06-.94 2.06-2.06.94z\"/><path d=\"M17.41 7.96l-1.37-1.37c-.4-.4-.92-.59-1.43-.59-.52 0-1.04.2-1.43.59L10.3 9.45l-7.72 7.72c-.78.78-.78 2.05 0 2.83L4 21.41c.39.39.9.59 1.41.59.51 0 1.02-.2 1.41-.59l7.78-7.78 2.81-2.81c.8-.78.8-2.07 0-2.86zM5.41 20L4 18.59l7.72-7.72 1.47 1.35L5.41 20z\"/>\n",
              "  </svg>\n",
              "      </button>\n",
              "      \n",
              "  <style>\n",
              "    .colab-df-container {\n",
              "      display:flex;\n",
              "      flex-wrap:wrap;\n",
              "      gap: 12px;\n",
              "    }\n",
              "\n",
              "    .colab-df-convert {\n",
              "      background-color: #E8F0FE;\n",
              "      border: none;\n",
              "      border-radius: 50%;\n",
              "      cursor: pointer;\n",
              "      display: none;\n",
              "      fill: #1967D2;\n",
              "      height: 32px;\n",
              "      padding: 0 0 0 0;\n",
              "      width: 32px;\n",
              "    }\n",
              "\n",
              "    .colab-df-convert:hover {\n",
              "      background-color: #E2EBFA;\n",
              "      box-shadow: 0px 1px 2px rgba(60, 64, 67, 0.3), 0px 1px 3px 1px rgba(60, 64, 67, 0.15);\n",
              "      fill: #174EA6;\n",
              "    }\n",
              "\n",
              "    [theme=dark] .colab-df-convert {\n",
              "      background-color: #3B4455;\n",
              "      fill: #D2E3FC;\n",
              "    }\n",
              "\n",
              "    [theme=dark] .colab-df-convert:hover {\n",
              "      background-color: #434B5C;\n",
              "      box-shadow: 0px 1px 3px 1px rgba(0, 0, 0, 0.15);\n",
              "      filter: drop-shadow(0px 1px 2px rgba(0, 0, 0, 0.3));\n",
              "      fill: #FFFFFF;\n",
              "    }\n",
              "  </style>\n",
              "\n",
              "      <script>\n",
              "        const buttonEl =\n",
              "          document.querySelector('#df-8a5dd39d-6c7f-4fab-a9e1-aa46f0278037 button.colab-df-convert');\n",
              "        buttonEl.style.display =\n",
              "          google.colab.kernel.accessAllowed ? 'block' : 'none';\n",
              "\n",
              "        async function convertToInteractive(key) {\n",
              "          const element = document.querySelector('#df-8a5dd39d-6c7f-4fab-a9e1-aa46f0278037');\n",
              "          const dataTable =\n",
              "            await google.colab.kernel.invokeFunction('convertToInteractive',\n",
              "                                                     [key], {});\n",
              "          if (!dataTable) return;\n",
              "\n",
              "          const docLinkHtml = 'Like what you see? Visit the ' +\n",
              "            '<a target=\"_blank\" href=https://colab.research.google.com/notebooks/data_table.ipynb>data table notebook</a>'\n",
              "            + ' to learn more about interactive tables.';\n",
              "          element.innerHTML = '';\n",
              "          dataTable['output_type'] = 'display_data';\n",
              "          await google.colab.output.renderOutput(dataTable, element);\n",
              "          const docLink = document.createElement('div');\n",
              "          docLink.innerHTML = docLinkHtml;\n",
              "          element.appendChild(docLink);\n",
              "        }\n",
              "      </script>\n",
              "    </div>\n",
              "  </div>\n",
              "  "
            ]
          },
          "metadata": {},
          "execution_count": 2
        }
      ],
      "source": [
        "# Dataset de origen\n",
        "\n",
        "url = \"https://raw.githubusercontent.com/Alejandro-A-DS/Datos_Master/main/m6_ai2_act_healthcare-dataset-stroke-data.csv\"\n",
        "\n",
        "data = pd.read_csv(url)\n",
        "\n",
        "data.drop(columns = [\"id\"], inplace=True)\n",
        "\n",
        "data.head()"
      ]
    },
    {
      "cell_type": "code",
      "source": [
        "# Visualización rápida de la estructura del dataset\n",
        "\n",
        "data.info()"
      ],
      "metadata": {
        "colab": {
          "base_uri": "https://localhost:8080/"
        },
        "id": "wTY2BkCQ7lRe",
        "outputId": "88a3e676-4957-44f7-981d-eec87794d256"
      },
      "execution_count": null,
      "outputs": [
        {
          "output_type": "stream",
          "name": "stdout",
          "text": [
            "<class 'pandas.core.frame.DataFrame'>\n",
            "RangeIndex: 5110 entries, 0 to 5109\n",
            "Data columns (total 11 columns):\n",
            " #   Column             Non-Null Count  Dtype  \n",
            "---  ------             --------------  -----  \n",
            " 0   gender             5110 non-null   object \n",
            " 1   age                5110 non-null   float64\n",
            " 2   hypertension       5110 non-null   int64  \n",
            " 3   heart_disease      5110 non-null   int64  \n",
            " 4   ever_married       5110 non-null   object \n",
            " 5   work_type          5110 non-null   object \n",
            " 6   Residence_type     5110 non-null   object \n",
            " 7   avg_glucose_level  5110 non-null   float64\n",
            " 8   bmi                4909 non-null   float64\n",
            " 9   smoking_status     5110 non-null   object \n",
            " 10  stroke             5110 non-null   int64  \n",
            "dtypes: float64(3), int64(3), object(5)\n",
            "memory usage: 439.3+ KB\n"
          ]
        }
      ]
    },
    {
      "cell_type": "markdown",
      "source": [
        "## 6.2.1 Preprocesado\n",
        "---\n"
      ],
      "metadata": {
        "id": "4aTrQnOLun3h"
      }
    },
    {
      "cell_type": "markdown",
      "source": [
        "### 6.2.1.1 Eliminación de valores nulos\n",
        "\n",
        "Como podemor observar en el resumen del dataset, existen 201 personas de las cuales se desconoce su índice de masa corporal (`bmi`). Dado que asignar un valor a estar personas (como la media o moda) puede ser irresponsable en este tipo de análisis médicos, se eliminarán los registros cuyo `bmi` se desconoce."
      ],
      "metadata": {
        "id": "Z4exyaREu1dX"
      }
    },
    {
      "cell_type": "code",
      "source": [
        "# Eliminación de observaciones con valores nulos\n",
        "\n",
        "data.dropna(axis=0, inplace=True)\n",
        "\n",
        "data.info()"
      ],
      "metadata": {
        "colab": {
          "base_uri": "https://localhost:8080/"
        },
        "id": "bqr44lSs_g2O",
        "outputId": "b5947518-d9b4-4c11-9347-2907c8b92f0e"
      },
      "execution_count": null,
      "outputs": [
        {
          "output_type": "stream",
          "name": "stdout",
          "text": [
            "<class 'pandas.core.frame.DataFrame'>\n",
            "Int64Index: 4909 entries, 0 to 5109\n",
            "Data columns (total 11 columns):\n",
            " #   Column             Non-Null Count  Dtype  \n",
            "---  ------             --------------  -----  \n",
            " 0   gender             4909 non-null   object \n",
            " 1   age                4909 non-null   float64\n",
            " 2   hypertension       4909 non-null   int64  \n",
            " 3   heart_disease      4909 non-null   int64  \n",
            " 4   ever_married       4909 non-null   object \n",
            " 5   work_type          4909 non-null   object \n",
            " 6   Residence_type     4909 non-null   object \n",
            " 7   avg_glucose_level  4909 non-null   float64\n",
            " 8   bmi                4909 non-null   float64\n",
            " 9   smoking_status     4909 non-null   object \n",
            " 10  stroke             4909 non-null   int64  \n",
            "dtypes: float64(3), int64(3), object(5)\n",
            "memory usage: 460.2+ KB\n"
          ]
        }
      ]
    },
    {
      "cell_type": "markdown",
      "source": [
        "### 6.2.1.2 Reemplazo de los valores \"unknown\" en la variable smoking_status\n",
        "\n",
        "Existe una gran cantidad de personas cuyo estado de fumardor se desconoce."
      ],
      "metadata": {
        "id": "53Dk-zetcfzk"
      }
    },
    {
      "cell_type": "code",
      "source": [
        "# Cantidad de apariciones de cada valor único en la variables smoking_status\n",
        "\n",
        "data['smoking_status'].value_counts()"
      ],
      "metadata": {
        "colab": {
          "base_uri": "https://localhost:8080/"
        },
        "id": "BoUOzV39dG3Y",
        "outputId": "e8290e9d-5137-4c40-d31a-768d8e47da94"
      },
      "execution_count": null,
      "outputs": [
        {
          "output_type": "execute_result",
          "data": {
            "text/plain": [
              "never smoked       1852\n",
              "Unknown            1483\n",
              "formerly smoked     837\n",
              "smokes              737\n",
              "Name: smoking_status, dtype: int64"
            ]
          },
          "metadata": {},
          "execution_count": 5
        }
      ]
    },
    {
      "cell_type": "markdown",
      "source": [
        "Estas personas con \"unknown\" en la variable smoking_status representan un 30% del total de observaciones en el dataset, por lo que para imputar algun valor, se mirará dentro de la cantidad de personas que tuvieron un derrame cerebral las cantidades totales de valores únicos."
      ],
      "metadata": {
        "id": "TE2KgXeidw73"
      }
    },
    {
      "cell_type": "code",
      "source": [
        "# Cantidad de aparciones de cada valor único\n",
        "\n",
        "data.loc[data['stroke'] == 1, 'smoking_status'].value_counts()"
      ],
      "metadata": {
        "colab": {
          "base_uri": "https://localhost:8080/"
        },
        "id": "PYzsTlPdbzOv",
        "outputId": "50c9ece5-9ff9-46af-b20d-2e881ae01b21"
      },
      "execution_count": null,
      "outputs": [
        {
          "output_type": "execute_result",
          "data": {
            "text/plain": [
              "never smoked       84\n",
              "formerly smoked    57\n",
              "smokes             39\n",
              "Unknown            29\n",
              "Name: smoking_status, dtype: int64"
            ]
          },
          "metadata": {},
          "execution_count": 6
        }
      ]
    },
    {
      "cell_type": "markdown",
      "source": [
        "Dentro de las personas que tuvieron un derreme cerebral, las personas fumadoras representan una menor proporción que las demás, por esto considerará asignar aleatoriamente (pseudo aleatoriamente) valores entre `never smoked`, `formerly smoked` y `smokes` a estos valores \"Unknown\"."
      ],
      "metadata": {
        "id": "hJJNMGyFgTux"
      }
    },
    {
      "cell_type": "code",
      "source": [
        "# Asignación aleatoria de valores\n",
        "\n",
        "random.seed(7)\n",
        "data.loc[data['smoking_status'] == \"Unknown\", \"smoking_status\"] = random.choice(['never smoked', 'formerly smoked', 'smokes'])"
      ],
      "metadata": {
        "id": "NrkPkvfrcd-h"
      },
      "execution_count": null,
      "outputs": []
    },
    {
      "cell_type": "code",
      "source": [
        "# Cantidad de aparciones de cada valor único después\n",
        "\n",
        "data['smoking_status'].value_counts()"
      ],
      "metadata": {
        "colab": {
          "base_uri": "https://localhost:8080/"
        },
        "id": "xef_4GO0gEsK",
        "outputId": "349707c3-cc5b-4774-a508-b64e31b34179"
      },
      "execution_count": null,
      "outputs": [
        {
          "output_type": "execute_result",
          "data": {
            "text/plain": [
              "formerly smoked    2320\n",
              "never smoked       1852\n",
              "smokes              737\n",
              "Name: smoking_status, dtype: int64"
            ]
          },
          "metadata": {},
          "execution_count": 8
        }
      ]
    },
    {
      "cell_type": "markdown",
      "source": [
        "### 6.2.1.3 Conversión de variables categóricas a numéricas\n",
        "\n",
        "Una vez tenemos el dataset valores nulos, procedemos a transformar las variables categóricas en numéricas. Estas variables a transformar son:\n",
        "\n",
        "- gender.\n",
        "- ever_married.\n",
        "- work_type.\n",
        "- residence_type.\n",
        "- smoking_status."
      ],
      "metadata": {
        "id": "oMpsOs7BB0ex"
      }
    },
    {
      "cell_type": "code",
      "source": [
        "# Creación del dataset tranformndo las variables categóricas en numéricas\n",
        "\n",
        "from sklearn.compose import ColumnTransformer\n",
        "from sklearn.preprocessing import OneHotEncoder\n",
        "\n",
        "columnas_categoricas = ['gender', 'ever_married', 'work_type', 'Residence_type', 'smoking_status']\n",
        "columnas_numericas = ['age', 'hypertension', 'heart_disease', 'avg_glucose_level', 'bmi', 'stroke']\n",
        "\n",
        "transformador = ColumnTransformer(transformers=[('onehot', OneHotEncoder(), columnas_categoricas)],\n",
        "                                  remainder='passthrough')\n",
        "\n",
        "data_numeric = transformador.fit_transform(data)\n",
        "\n",
        "nombres_columnas = list(transformador.named_transformers_['onehot'].get_feature_names_out(columnas_categoricas))\n",
        "nombres_columnas.extend(columnas_numericas)\n",
        "\n",
        "data_numeric = pd.DataFrame(data=data_numeric, columns=nombres_columnas)\n",
        "\n",
        "data_numeric.head()"
      ],
      "metadata": {
        "colab": {
          "base_uri": "https://localhost:8080/",
          "height": 317
        },
        "id": "nQDaZNBK8YQy",
        "outputId": "2c58becd-0726-4bd0-a410-ff9960b0dab3"
      },
      "execution_count": null,
      "outputs": [
        {
          "output_type": "execute_result",
          "data": {
            "text/plain": [
              "   gender_Female  gender_Male  gender_Other  ever_married_No  \\\n",
              "0            0.0          1.0           0.0              0.0   \n",
              "1            0.0          1.0           0.0              0.0   \n",
              "2            1.0          0.0           0.0              0.0   \n",
              "3            1.0          0.0           0.0              0.0   \n",
              "4            0.0          1.0           0.0              0.0   \n",
              "\n",
              "   ever_married_Yes  work_type_Govt_job  work_type_Never_worked  \\\n",
              "0               1.0                 0.0                     0.0   \n",
              "1               1.0                 0.0                     0.0   \n",
              "2               1.0                 0.0                     0.0   \n",
              "3               1.0                 0.0                     0.0   \n",
              "4               1.0                 0.0                     0.0   \n",
              "\n",
              "   work_type_Private  work_type_Self-employed  work_type_children  ...  \\\n",
              "0                1.0                      0.0                 0.0  ...   \n",
              "1                1.0                      0.0                 0.0  ...   \n",
              "2                1.0                      0.0                 0.0  ...   \n",
              "3                0.0                      1.0                 0.0  ...   \n",
              "4                1.0                      0.0                 0.0  ...   \n",
              "\n",
              "   Residence_type_Urban  smoking_status_formerly smoked  \\\n",
              "0                   1.0                             1.0   \n",
              "1                   0.0                             0.0   \n",
              "2                   1.0                             0.0   \n",
              "3                   0.0                             0.0   \n",
              "4                   1.0                             1.0   \n",
              "\n",
              "   smoking_status_never smoked  smoking_status_smokes   age  hypertension  \\\n",
              "0                          0.0                    0.0  67.0           0.0   \n",
              "1                          1.0                    0.0  80.0           0.0   \n",
              "2                          0.0                    1.0  49.0           0.0   \n",
              "3                          1.0                    0.0  79.0           1.0   \n",
              "4                          0.0                    0.0  81.0           0.0   \n",
              "\n",
              "   heart_disease  avg_glucose_level   bmi  stroke  \n",
              "0            1.0             228.69  36.6     1.0  \n",
              "1            1.0             105.92  32.5     1.0  \n",
              "2            0.0             171.23  34.4     1.0  \n",
              "3            0.0             174.12  24.0     1.0  \n",
              "4            0.0             186.21  29.0     1.0  \n",
              "\n",
              "[5 rows x 21 columns]"
            ],
            "text/html": [
              "\n",
              "  <div id=\"df-99a9d9aa-f6a3-4101-b6e8-bab49cbaa460\">\n",
              "    <div class=\"colab-df-container\">\n",
              "      <div>\n",
              "<style scoped>\n",
              "    .dataframe tbody tr th:only-of-type {\n",
              "        vertical-align: middle;\n",
              "    }\n",
              "\n",
              "    .dataframe tbody tr th {\n",
              "        vertical-align: top;\n",
              "    }\n",
              "\n",
              "    .dataframe thead th {\n",
              "        text-align: right;\n",
              "    }\n",
              "</style>\n",
              "<table border=\"1\" class=\"dataframe\">\n",
              "  <thead>\n",
              "    <tr style=\"text-align: right;\">\n",
              "      <th></th>\n",
              "      <th>gender_Female</th>\n",
              "      <th>gender_Male</th>\n",
              "      <th>gender_Other</th>\n",
              "      <th>ever_married_No</th>\n",
              "      <th>ever_married_Yes</th>\n",
              "      <th>work_type_Govt_job</th>\n",
              "      <th>work_type_Never_worked</th>\n",
              "      <th>work_type_Private</th>\n",
              "      <th>work_type_Self-employed</th>\n",
              "      <th>work_type_children</th>\n",
              "      <th>...</th>\n",
              "      <th>Residence_type_Urban</th>\n",
              "      <th>smoking_status_formerly smoked</th>\n",
              "      <th>smoking_status_never smoked</th>\n",
              "      <th>smoking_status_smokes</th>\n",
              "      <th>age</th>\n",
              "      <th>hypertension</th>\n",
              "      <th>heart_disease</th>\n",
              "      <th>avg_glucose_level</th>\n",
              "      <th>bmi</th>\n",
              "      <th>stroke</th>\n",
              "    </tr>\n",
              "  </thead>\n",
              "  <tbody>\n",
              "    <tr>\n",
              "      <th>0</th>\n",
              "      <td>0.0</td>\n",
              "      <td>1.0</td>\n",
              "      <td>0.0</td>\n",
              "      <td>0.0</td>\n",
              "      <td>1.0</td>\n",
              "      <td>0.0</td>\n",
              "      <td>0.0</td>\n",
              "      <td>1.0</td>\n",
              "      <td>0.0</td>\n",
              "      <td>0.0</td>\n",
              "      <td>...</td>\n",
              "      <td>1.0</td>\n",
              "      <td>1.0</td>\n",
              "      <td>0.0</td>\n",
              "      <td>0.0</td>\n",
              "      <td>67.0</td>\n",
              "      <td>0.0</td>\n",
              "      <td>1.0</td>\n",
              "      <td>228.69</td>\n",
              "      <td>36.6</td>\n",
              "      <td>1.0</td>\n",
              "    </tr>\n",
              "    <tr>\n",
              "      <th>1</th>\n",
              "      <td>0.0</td>\n",
              "      <td>1.0</td>\n",
              "      <td>0.0</td>\n",
              "      <td>0.0</td>\n",
              "      <td>1.0</td>\n",
              "      <td>0.0</td>\n",
              "      <td>0.0</td>\n",
              "      <td>1.0</td>\n",
              "      <td>0.0</td>\n",
              "      <td>0.0</td>\n",
              "      <td>...</td>\n",
              "      <td>0.0</td>\n",
              "      <td>0.0</td>\n",
              "      <td>1.0</td>\n",
              "      <td>0.0</td>\n",
              "      <td>80.0</td>\n",
              "      <td>0.0</td>\n",
              "      <td>1.0</td>\n",
              "      <td>105.92</td>\n",
              "      <td>32.5</td>\n",
              "      <td>1.0</td>\n",
              "    </tr>\n",
              "    <tr>\n",
              "      <th>2</th>\n",
              "      <td>1.0</td>\n",
              "      <td>0.0</td>\n",
              "      <td>0.0</td>\n",
              "      <td>0.0</td>\n",
              "      <td>1.0</td>\n",
              "      <td>0.0</td>\n",
              "      <td>0.0</td>\n",
              "      <td>1.0</td>\n",
              "      <td>0.0</td>\n",
              "      <td>0.0</td>\n",
              "      <td>...</td>\n",
              "      <td>1.0</td>\n",
              "      <td>0.0</td>\n",
              "      <td>0.0</td>\n",
              "      <td>1.0</td>\n",
              "      <td>49.0</td>\n",
              "      <td>0.0</td>\n",
              "      <td>0.0</td>\n",
              "      <td>171.23</td>\n",
              "      <td>34.4</td>\n",
              "      <td>1.0</td>\n",
              "    </tr>\n",
              "    <tr>\n",
              "      <th>3</th>\n",
              "      <td>1.0</td>\n",
              "      <td>0.0</td>\n",
              "      <td>0.0</td>\n",
              "      <td>0.0</td>\n",
              "      <td>1.0</td>\n",
              "      <td>0.0</td>\n",
              "      <td>0.0</td>\n",
              "      <td>0.0</td>\n",
              "      <td>1.0</td>\n",
              "      <td>0.0</td>\n",
              "      <td>...</td>\n",
              "      <td>0.0</td>\n",
              "      <td>0.0</td>\n",
              "      <td>1.0</td>\n",
              "      <td>0.0</td>\n",
              "      <td>79.0</td>\n",
              "      <td>1.0</td>\n",
              "      <td>0.0</td>\n",
              "      <td>174.12</td>\n",
              "      <td>24.0</td>\n",
              "      <td>1.0</td>\n",
              "    </tr>\n",
              "    <tr>\n",
              "      <th>4</th>\n",
              "      <td>0.0</td>\n",
              "      <td>1.0</td>\n",
              "      <td>0.0</td>\n",
              "      <td>0.0</td>\n",
              "      <td>1.0</td>\n",
              "      <td>0.0</td>\n",
              "      <td>0.0</td>\n",
              "      <td>1.0</td>\n",
              "      <td>0.0</td>\n",
              "      <td>0.0</td>\n",
              "      <td>...</td>\n",
              "      <td>1.0</td>\n",
              "      <td>1.0</td>\n",
              "      <td>0.0</td>\n",
              "      <td>0.0</td>\n",
              "      <td>81.0</td>\n",
              "      <td>0.0</td>\n",
              "      <td>0.0</td>\n",
              "      <td>186.21</td>\n",
              "      <td>29.0</td>\n",
              "      <td>1.0</td>\n",
              "    </tr>\n",
              "  </tbody>\n",
              "</table>\n",
              "<p>5 rows × 21 columns</p>\n",
              "</div>\n",
              "      <button class=\"colab-df-convert\" onclick=\"convertToInteractive('df-99a9d9aa-f6a3-4101-b6e8-bab49cbaa460')\"\n",
              "              title=\"Convert this dataframe to an interactive table.\"\n",
              "              style=\"display:none;\">\n",
              "        \n",
              "  <svg xmlns=\"http://www.w3.org/2000/svg\" height=\"24px\"viewBox=\"0 0 24 24\"\n",
              "       width=\"24px\">\n",
              "    <path d=\"M0 0h24v24H0V0z\" fill=\"none\"/>\n",
              "    <path d=\"M18.56 5.44l.94 2.06.94-2.06 2.06-.94-2.06-.94-.94-2.06-.94 2.06-2.06.94zm-11 1L8.5 8.5l.94-2.06 2.06-.94-2.06-.94L8.5 2.5l-.94 2.06-2.06.94zm10 10l.94 2.06.94-2.06 2.06-.94-2.06-.94-.94-2.06-.94 2.06-2.06.94z\"/><path d=\"M17.41 7.96l-1.37-1.37c-.4-.4-.92-.59-1.43-.59-.52 0-1.04.2-1.43.59L10.3 9.45l-7.72 7.72c-.78.78-.78 2.05 0 2.83L4 21.41c.39.39.9.59 1.41.59.51 0 1.02-.2 1.41-.59l7.78-7.78 2.81-2.81c.8-.78.8-2.07 0-2.86zM5.41 20L4 18.59l7.72-7.72 1.47 1.35L5.41 20z\"/>\n",
              "  </svg>\n",
              "      </button>\n",
              "      \n",
              "  <style>\n",
              "    .colab-df-container {\n",
              "      display:flex;\n",
              "      flex-wrap:wrap;\n",
              "      gap: 12px;\n",
              "    }\n",
              "\n",
              "    .colab-df-convert {\n",
              "      background-color: #E8F0FE;\n",
              "      border: none;\n",
              "      border-radius: 50%;\n",
              "      cursor: pointer;\n",
              "      display: none;\n",
              "      fill: #1967D2;\n",
              "      height: 32px;\n",
              "      padding: 0 0 0 0;\n",
              "      width: 32px;\n",
              "    }\n",
              "\n",
              "    .colab-df-convert:hover {\n",
              "      background-color: #E2EBFA;\n",
              "      box-shadow: 0px 1px 2px rgba(60, 64, 67, 0.3), 0px 1px 3px 1px rgba(60, 64, 67, 0.15);\n",
              "      fill: #174EA6;\n",
              "    }\n",
              "\n",
              "    [theme=dark] .colab-df-convert {\n",
              "      background-color: #3B4455;\n",
              "      fill: #D2E3FC;\n",
              "    }\n",
              "\n",
              "    [theme=dark] .colab-df-convert:hover {\n",
              "      background-color: #434B5C;\n",
              "      box-shadow: 0px 1px 3px 1px rgba(0, 0, 0, 0.15);\n",
              "      filter: drop-shadow(0px 1px 2px rgba(0, 0, 0, 0.3));\n",
              "      fill: #FFFFFF;\n",
              "    }\n",
              "  </style>\n",
              "\n",
              "      <script>\n",
              "        const buttonEl =\n",
              "          document.querySelector('#df-99a9d9aa-f6a3-4101-b6e8-bab49cbaa460 button.colab-df-convert');\n",
              "        buttonEl.style.display =\n",
              "          google.colab.kernel.accessAllowed ? 'block' : 'none';\n",
              "\n",
              "        async function convertToInteractive(key) {\n",
              "          const element = document.querySelector('#df-99a9d9aa-f6a3-4101-b6e8-bab49cbaa460');\n",
              "          const dataTable =\n",
              "            await google.colab.kernel.invokeFunction('convertToInteractive',\n",
              "                                                     [key], {});\n",
              "          if (!dataTable) return;\n",
              "\n",
              "          const docLinkHtml = 'Like what you see? Visit the ' +\n",
              "            '<a target=\"_blank\" href=https://colab.research.google.com/notebooks/data_table.ipynb>data table notebook</a>'\n",
              "            + ' to learn more about interactive tables.';\n",
              "          element.innerHTML = '';\n",
              "          dataTable['output_type'] = 'display_data';\n",
              "          await google.colab.output.renderOutput(dataTable, element);\n",
              "          const docLink = document.createElement('div');\n",
              "          docLink.innerHTML = docLinkHtml;\n",
              "          element.appendChild(docLink);\n",
              "        }\n",
              "      </script>\n",
              "    </div>\n",
              "  </div>\n",
              "  "
            ]
          },
          "metadata": {},
          "execution_count": 9
        }
      ]
    },
    {
      "cell_type": "markdown",
      "source": [
        "En el dataframe anterior se observa que al realizar la codificación de variables categóricas se obtuvo un total de 22 variables (incluyendo el vector objetivo). Para verificar Que es el número correcto se sumará el total de valores únicos en las variables categóricas junto con las variables numéricas y el resultado debería ser 22:"
      ],
      "metadata": {
        "id": "5NCnNVAGs2EQ"
      }
    },
    {
      "cell_type": "code",
      "source": [
        "# Cantidad de valores únicos en las variables categóricas\n",
        "\n",
        "data[columnas_categoricas].apply(lambda x: x.nunique(), axis=0).sum()"
      ],
      "metadata": {
        "colab": {
          "base_uri": "https://localhost:8080/"
        },
        "id": "fW0Kk20LrGvb",
        "outputId": "91672379-e62c-40ed-b10e-5487d1a8f8c8"
      },
      "execution_count": null,
      "outputs": [
        {
          "output_type": "execute_result",
          "data": {
            "text/plain": [
              "15"
            ]
          },
          "metadata": {},
          "execution_count": 10
        }
      ]
    },
    {
      "cell_type": "code",
      "source": [
        "# Columnas numéricas\n",
        "\n",
        "data[columnas_numericas].shape[1]"
      ],
      "metadata": {
        "colab": {
          "base_uri": "https://localhost:8080/"
        },
        "id": "SOkjmwist_9Y",
        "outputId": "4f014015-04b6-4b19-955c-5a2eed321283"
      },
      "execution_count": null,
      "outputs": [
        {
          "output_type": "execute_result",
          "data": {
            "text/plain": [
              "6"
            ]
          },
          "metadata": {},
          "execution_count": 11
        }
      ]
    },
    {
      "cell_type": "markdown",
      "source": [
        "Efectivamente el proceso de codificación se llevó a cabo correctamente, ya que se tienen 16 valores unicos y 6 columnas numéricas que en conjunto suman 22 (número de columnas del dataframe codificado)."
      ],
      "metadata": {
        "id": "_UasqjwJwGht"
      }
    },
    {
      "cell_type": "markdown",
      "source": [
        "### 6.2.1.4 Escalamiento del dataframe a trabajar\n",
        "\n",
        "Dada la naturaleza del algoritmo KNN, es necesario que las distancias que se calcularán no sean distancias absolutas, dado que eso puede generar resultados no deseados considerando el rango de cada una de las variables. Por eso es necesario trabajar con valores relativos los cuales no se vean afecados por los rangos de estas variables."
      ],
      "metadata": {
        "id": "GJyKAMQhwnBM"
      }
    },
    {
      "cell_type": "code",
      "source": [
        "# Separación del dataframe codificado entre matriz de observaciones (X) y vector objetivo (y)\n",
        "\n",
        "X = data_numeric.iloc[:,0:-1].copy()\n",
        "y = data_numeric['stroke'].copy()"
      ],
      "metadata": {
        "id": "mGaJSXppGTvy"
      },
      "execution_count": null,
      "outputs": []
    },
    {
      "cell_type": "code",
      "source": [
        "from sklearn.preprocessing import StandardScaler\n",
        "scaler = StandardScaler()\n",
        "\n",
        "Xs = scaler.fit_transform(X)"
      ],
      "metadata": {
        "id": "TNyohfb-2Ufg"
      },
      "execution_count": null,
      "outputs": []
    },
    {
      "cell_type": "markdown",
      "source": [
        "## 6.2.2 Generación de modelo KNN\n",
        "---\n",
        "La cantidad de personas que han sufrido un derrame cerebral (stroke) es menor al 5% dentro del dataset de observaciones, por lo que las clases están desequilibradas. Para poder elegir el mejor número de vecinos se utilizará validación cruzada y de esta manera evitar tener un clasificador que no pueda predecir apropiadamente cada una de las dos clases objetivo."
      ],
      "metadata": {
        "id": "NfUrq-7t9uv4"
      }
    },
    {
      "cell_type": "code",
      "source": [
        "from sklearn.model_selection import cross_val_predict, cross_val_score\n",
        "from sklearn.neighbors import KNeighborsClassifier\n",
        "\n",
        "preds_list = []\n",
        "score_list = []\n",
        "k_list = []\n",
        "weight = \"distance\"\n",
        "metric = \"euclidean\"\n",
        "\n",
        "for k in list(range(1, 50, 2)):\n",
        "\n",
        "  knn_model = KNeighborsClassifier(n_neighbors=k,\n",
        "                                   weights=weight,\n",
        "                                   metric=metric)\n",
        "\n",
        "  preds = cross_val_predict(knn_model,\n",
        "                            Xs,\n",
        "                            y,\n",
        "                            cv=10,\n",
        "                            method=\"predict\",\n",
        "                            n_jobs=3)\n",
        "\n",
        "  score = cross_val_score(knn_model,\n",
        "                          Xs,\n",
        "                          y,\n",
        "                          cv=10,\n",
        "                          scoring=\"accuracy\")\n",
        "\n",
        "  k_list.append(k)\n",
        "  preds_list.append(preds)\n",
        "  score_list.append(score.mean())\n",
        "\n",
        "df_scores = pd.DataFrame({\"K\":k_list,\n",
        "                          \"score\":score_list\n",
        "                          })"
      ],
      "metadata": {
        "id": "0PCEwHXGQMRS"
      },
      "execution_count": null,
      "outputs": []
    },
    {
      "cell_type": "code",
      "source": [
        "# Gráfica de Accuracy\n",
        "\n",
        "sns.lineplot(x=\"K\", y=\"score\", data = df_scores). \\\n",
        "set(xlabel='Número de vecinos (K)',\n",
        "    ylabel='Accuracy',\n",
        "    title=\"Rendimiento K-NN para diferentes valores de K\");"
      ],
      "metadata": {
        "colab": {
          "base_uri": "https://localhost:8080/",
          "height": 516
        },
        "id": "OdQuSiK_Sw59",
        "outputId": "e338cb4b-ff41-42ce-f230-b10103303653"
      },
      "execution_count": null,
      "outputs": [
        {
          "output_type": "display_data",
          "data": {
            "text/plain": [
              "<Figure size 704x528 with 1 Axes>"
            ],
            "image/png": "[encoded data removed]"
          },
          "metadata": {}
        }
      ]
    },
    {
      "cell_type": "code",
      "source": [
        "df_scores.head(25)"
      ],
      "metadata": {
        "colab": {
          "base_uri": "https://localhost:8080/",
          "height": 833
        },
        "id": "sn_dydYzTxbE",
        "outputId": "33507fbc-9e13-476b-c164-57d06510b11e"
      },
      "execution_count": null,
      "outputs": [
        {
          "output_type": "execute_result",
          "data": {
            "text/plain": [
              "     K     score\n",
              "0    1  0.923814\n",
              "1    3  0.946425\n",
              "2    5  0.952129\n",
              "3    7  0.954370\n",
              "4    9  0.954777\n",
              "5   11  0.955185\n",
              "6   13  0.955593\n",
              "7   15  0.956000\n",
              "8   17  0.956407\n",
              "9   19  0.956814\n",
              "10  21  0.957018\n",
              "11  23  0.957018\n",
              "12  25  0.957018\n",
              "13  27  0.957018\n",
              "14  29  0.957018\n",
              "15  31  0.957018\n",
              "16  33  0.957018\n",
              "17  35  0.957222\n",
              "18  37  0.957222\n",
              "19  39  0.957222\n",
              "20  41  0.957425\n",
              "21  43  0.957425\n",
              "22  45  0.957425\n",
              "23  47  0.957425\n",
              "24  49  0.957425"
            ],
            "text/html": [
              "\n",
              "  <div id=\"df-e45755e4-8aeb-401b-b315-aa2eb1d70ce8\">\n",
              "    <div class=\"colab-df-container\">\n",
              "      <div>\n",
              "<style scoped>\n",
              "    .dataframe tbody tr th:only-of-type {\n",
              "        vertical-align: middle;\n",
              "    }\n",
              "\n",
              "    .dataframe tbody tr th {\n",
              "        vertical-align: top;\n",
              "    }\n",
              "\n",
              "    .dataframe thead th {\n",
              "        text-align: right;\n",
              "    }\n",
              "</style>\n",
              "<table border=\"1\" class=\"dataframe\">\n",
              "  <thead>\n",
              "    <tr style=\"text-align: right;\">\n",
              "      <th></th>\n",
              "      <th>K</th>\n",
              "      <th>score</th>\n",
              "    </tr>\n",
              "  </thead>\n",
              "  <tbody>\n",
              "    <tr>\n",
              "      <th>0</th>\n",
              "      <td>1</td>\n",
              "      <td>0.923814</td>\n",
              "    </tr>\n",
              "    <tr>\n",
              "      <th>1</th>\n",
              "      <td>3</td>\n",
              "      <td>0.946425</td>\n",
              "    </tr>\n",
              "    <tr>\n",
              "      <th>2</th>\n",
              "      <td>5</td>\n",
              "      <td>0.952129</td>\n",
              "    </tr>\n",
              "    <tr>\n",
              "      <th>3</th>\n",
              "      <td>7</td>\n",
              "      <td>0.954370</td>\n",
              "    </tr>\n",
              "    <tr>\n",
              "      <th>4</th>\n",
              "      <td>9</td>\n",
              "      <td>0.954777</td>\n",
              "    </tr>\n",
              "    <tr>\n",
              "      <th>5</th>\n",
              "      <td>11</td>\n",
              "      <td>0.955185</td>\n",
              "    </tr>\n",
              "    <tr>\n",
              "      <th>6</th>\n",
              "      <td>13</td>\n",
              "      <td>0.955593</td>\n",
              "    </tr>\n",
              "    <tr>\n",
              "      <th>7</th>\n",
              "      <td>15</td>\n",
              "      <td>0.956000</td>\n",
              "    </tr>\n",
              "    <tr>\n",
              "      <th>8</th>\n",
              "      <td>17</td>\n",
              "      <td>0.956407</td>\n",
              "    </tr>\n",
              "    <tr>\n",
              "      <th>9</th>\n",
              "      <td>19</td>\n",
              "      <td>0.956814</td>\n",
              "    </tr>\n",
              "    <tr>\n",
              "      <th>10</th>\n",
              "      <td>21</td>\n",
              "      <td>0.957018</td>\n",
              "    </tr>\n",
              "    <tr>\n",
              "      <th>11</th>\n",
              "      <td>23</td>\n",
              "      <td>0.957018</td>\n",
              "    </tr>\n",
              "    <tr>\n",
              "      <th>12</th>\n",
              "      <td>25</td>\n",
              "      <td>0.957018</td>\n",
              "    </tr>\n",
              "    <tr>\n",
              "      <th>13</th>\n",
              "      <td>27</td>\n",
              "      <td>0.957018</td>\n",
              "    </tr>\n",
              "    <tr>\n",
              "      <th>14</th>\n",
              "      <td>29</td>\n",
              "      <td>0.957018</td>\n",
              "    </tr>\n",
              "    <tr>\n",
              "      <th>15</th>\n",
              "      <td>31</td>\n",
              "      <td>0.957018</td>\n",
              "    </tr>\n",
              "    <tr>\n",
              "      <th>16</th>\n",
              "      <td>33</td>\n",
              "      <td>0.957018</td>\n",
              "    </tr>\n",
              "    <tr>\n",
              "      <th>17</th>\n",
              "      <td>35</td>\n",
              "      <td>0.957222</td>\n",
              "    </tr>\n",
              "    <tr>\n",
              "      <th>18</th>\n",
              "      <td>37</td>\n",
              "      <td>0.957222</td>\n",
              "    </tr>\n",
              "    <tr>\n",
              "      <th>19</th>\n",
              "      <td>39</td>\n",
              "      <td>0.957222</td>\n",
              "    </tr>\n",
              "    <tr>\n",
              "      <th>20</th>\n",
              "      <td>41</td>\n",
              "      <td>0.957425</td>\n",
              "    </tr>\n",
              "    <tr>\n",
              "      <th>21</th>\n",
              "      <td>43</td>\n",
              "      <td>0.957425</td>\n",
              "    </tr>\n",
              "    <tr>\n",
              "      <th>22</th>\n",
              "      <td>45</td>\n",
              "      <td>0.957425</td>\n",
              "    </tr>\n",
              "    <tr>\n",
              "      <th>23</th>\n",
              "      <td>47</td>\n",
              "      <td>0.957425</td>\n",
              "    </tr>\n",
              "    <tr>\n",
              "      <th>24</th>\n",
              "      <td>49</td>\n",
              "      <td>0.957425</td>\n",
              "    </tr>\n",
              "  </tbody>\n",
              "</table>\n",
              "</div>\n",
              "      <button class=\"colab-df-convert\" onclick=\"convertToInteractive('df-e45755e4-8aeb-401b-b315-aa2eb1d70ce8')\"\n",
              "              title=\"Convert this dataframe to an interactive table.\"\n",
              "              style=\"display:none;\">\n",
              "        \n",
              "  <svg xmlns=\"http://www.w3.org/2000/svg\" height=\"24px\"viewBox=\"0 0 24 24\"\n",
              "       width=\"24px\">\n",
              "    <path d=\"M0 0h24v24H0V0z\" fill=\"none\"/>\n",
              "    <path d=\"M18.56 5.44l.94 2.06.94-2.06 2.06-.94-2.06-.94-.94-2.06-.94 2.06-2.06.94zm-11 1L8.5 8.5l.94-2.06 2.06-.94-2.06-.94L8.5 2.5l-.94 2.06-2.06.94zm10 10l.94 2.06.94-2.06 2.06-.94-2.06-.94-.94-2.06-.94 2.06-2.06.94z\"/><path d=\"M17.41 7.96l-1.37-1.37c-.4-.4-.92-.59-1.43-.59-.52 0-1.04.2-1.43.59L10.3 9.45l-7.72 7.72c-.78.78-.78 2.05 0 2.83L4 21.41c.39.39.9.59 1.41.59.51 0 1.02-.2 1.41-.59l7.78-7.78 2.81-2.81c.8-.78.8-2.07 0-2.86zM5.41 20L4 18.59l7.72-7.72 1.47 1.35L5.41 20z\"/>\n",
              "  </svg>\n",
              "      </button>\n",
              "      \n",
              "  <style>\n",
              "    .colab-df-container {\n",
              "      display:flex;\n",
              "      flex-wrap:wrap;\n",
              "      gap: 12px;\n",
              "    }\n",
              "\n",
              "    .colab-df-convert {\n",
              "      background-color: #E8F0FE;\n",
              "      border: none;\n",
              "      border-radius: 50%;\n",
              "      cursor: pointer;\n",
              "      display: none;\n",
              "      fill: #1967D2;\n",
              "      height: 32px;\n",
              "      padding: 0 0 0 0;\n",
              "      width: 32px;\n",
              "    }\n",
              "\n",
              "    .colab-df-convert:hover {\n",
              "      background-color: #E2EBFA;\n",
              "      box-shadow: 0px 1px 2px rgba(60, 64, 67, 0.3), 0px 1px 3px 1px rgba(60, 64, 67, 0.15);\n",
              "      fill: #174EA6;\n",
              "    }\n",
              "\n",
              "    [theme=dark] .colab-df-convert {\n",
              "      background-color: #3B4455;\n",
              "      fill: #D2E3FC;\n",
              "    }\n",
              "\n",
              "    [theme=dark] .colab-df-convert:hover {\n",
              "      background-color: #434B5C;\n",
              "      box-shadow: 0px 1px 3px 1px rgba(0, 0, 0, 0.15);\n",
              "      filter: drop-shadow(0px 1px 2px rgba(0, 0, 0, 0.3));\n",
              "      fill: #FFFFFF;\n",
              "    }\n",
              "  </style>\n",
              "\n",
              "      <script>\n",
              "        const buttonEl =\n",
              "          document.querySelector('#df-e45755e4-8aeb-401b-b315-aa2eb1d70ce8 button.colab-df-convert');\n",
              "        buttonEl.style.display =\n",
              "          google.colab.kernel.accessAllowed ? 'block' : 'none';\n",
              "\n",
              "        async function convertToInteractive(key) {\n",
              "          const element = document.querySelector('#df-e45755e4-8aeb-401b-b315-aa2eb1d70ce8');\n",
              "          const dataTable =\n",
              "            await google.colab.kernel.invokeFunction('convertToInteractive',\n",
              "                                                     [key], {});\n",
              "          if (!dataTable) return;\n",
              "\n",
              "          const docLinkHtml = 'Like what you see? Visit the ' +\n",
              "            '<a target=\"_blank\" href=https://colab.research.google.com/notebooks/data_table.ipynb>data table notebook</a>'\n",
              "            + ' to learn more about interactive tables.';\n",
              "          element.innerHTML = '';\n",
              "          dataTable['output_type'] = 'display_data';\n",
              "          await google.colab.output.renderOutput(dataTable, element);\n",
              "          const docLink = document.createElement('div');\n",
              "          docLink.innerHTML = docLinkHtml;\n",
              "          element.appendChild(docLink);\n",
              "        }\n",
              "      </script>\n",
              "    </div>\n",
              "  </div>\n",
              "  "
            ]
          },
          "metadata": {},
          "execution_count": 16
        }
      ]
    },
    {
      "cell_type": "markdown",
      "source": [
        "Al ver la gráfica anterior y en la tabla se observa que aporzimadamente para un valor de k mayor o igual a 21 se obtiene un valor constante para el score. Por lo que se utilizará este valor para la evaluación del modelo."
      ],
      "metadata": {
        "id": "auNUMsz0XwZO"
      }
    },
    {
      "cell_type": "markdown",
      "source": [
        "## 6.2.3 Evaluación del modelo"
      ],
      "metadata": {
        "id": "ZStyHo_Igf8G"
      }
    },
    {
      "cell_type": "code",
      "source": [
        "k=21\n",
        "folds=10\n",
        "\n",
        "knn_model = KNeighborsClassifier(n_neighbors=k, weights=weight, metric=metric)\n",
        "preds = cross_val_predict(knn_model, X, y, cv=folds, method=\"predict\", n_jobs=5)\n",
        "score = cross_val_score(knn_model, X, y, cv=folds, scoring=\"accuracy\", n_jobs=5)\n",
        "print(\"Accuracy por capa: \" , score)\n",
        "print(\"Accuracy media: \", np.mean(score))"
      ],
      "metadata": {
        "colab": {
          "base_uri": "https://localhost:8080/"
        },
        "id": "JGKXqzg-XyBd",
        "outputId": "62789b5b-67c0-4d64-cab0-dea4326a4274"
      },
      "execution_count": null,
      "outputs": [
        {
          "output_type": "stream",
          "name": "stdout",
          "text": [
            "Accuracy por capa:  [0.95723014 0.95723014 0.95723014 0.95723014 0.95723014 0.95723014\n",
            " 0.95723014 0.95723014 0.95723014 0.95918367]\n",
            "Accuracy media:  0.9574254956565111\n"
          ]
        }
      ]
    },
    {
      "cell_type": "code",
      "source": [
        "from sklearn.metrics import confusion_matrix, ConfusionMatrixDisplay\n",
        "\n",
        "cm = confusion_matrix(y, preds)\n",
        "ConfusionMatrixDisplay(confusion_matrix=cm).plot();"
      ],
      "metadata": {
        "colab": {
          "base_uri": "https://localhost:8080/",
          "height": 492
        },
        "id": "r6ii0O_BZ1Ys",
        "outputId": "5734aa8b-4c41-474f-b174-8e7b2b2c3dbc"
      },
      "execution_count": null,
      "outputs": [
        {
          "output_type": "display_data",
          "data": {
            "text/plain": [
              "<Figure size 704x528 with 2 Axes>"
            ],
            "image/png": "[encoded data removed]"
          },
          "metadata": {}
        }
      ]
    },
    {
      "cell_type": "code",
      "source": [
        "from sklearn.metrics import classification_report\n",
        "\n",
        "print(f\"Informe de Clasificación:\\n\"\n",
        "      f\"{classification_report(y, preds)}\")"
      ],
      "metadata": {
        "colab": {
          "base_uri": "https://localhost:8080/"
        },
        "id": "Tmvqb0fUa1Z_",
        "outputId": "444940fd-8578-47d2-c14d-b0f8eec7f1d2"
      },
      "execution_count": null,
      "outputs": [
        {
          "output_type": "stream",
          "name": "stdout",
          "text": [
            "Informe de Clasificación:\n",
            "              precision    recall  f1-score   support\n",
            "\n",
            "         0.0       0.96      1.00      0.98      4700\n",
            "         1.0       0.00      0.00      0.00       209\n",
            "\n",
            "    accuracy                           0.96      4909\n",
            "   macro avg       0.48      0.50      0.49      4909\n",
            "weighted avg       0.92      0.96      0.94      4909\n",
            "\n"
          ]
        },
        {
          "output_type": "stream",
          "name": "stderr",
          "text": [
            "/usr/local/lib/python3.10/dist-packages/sklearn/metrics/_classification.py:1344: UndefinedMetricWarning: Precision and F-score are ill-defined and being set to 0.0 in labels with no predicted samples. Use `zero_division` parameter to control this behavior.\n",
            "  _warn_prf(average, modifier, msg_start, len(result))\n",
            "/usr/local/lib/python3.10/dist-packages/sklearn/metrics/_classification.py:1344: UndefinedMetricWarning: Precision and F-score are ill-defined and being set to 0.0 in labels with no predicted samples. Use `zero_division` parameter to control this behavior.\n",
            "  _warn_prf(average, modifier, msg_start, len(result))\n",
            "/usr/local/lib/python3.10/dist-packages/sklearn/metrics/_classification.py:1344: UndefinedMetricWarning: Precision and F-score are ill-defined and being set to 0.0 in labels with no predicted samples. Use `zero_division` parameter to control this behavior.\n",
            "  _warn_prf(average, modifier, msg_start, len(result))\n"
          ]
        }
      ]
    },
    {
      "cell_type": "markdown",
      "source": [
        "Los resultados obtenidos con este primer clasificados no son muy alentadores más allá de ver un 96% de precisión (que en este caso no es nada sorprendente), ya que no es capaz de clasificar correctamente ningún caso de derrame cerebral, lo cual es bastante crítico considerando el impacto y la naturaleza de la situación. Se ha obtenido una gran cantidad de falsos negativos (209). Debido a esto es necesario modificar el umbral de clasificación para reducir el número de falsos negativos ya que es preferible tratar a una persona que no tiene ningún problema a no tratar a una persona que sí tiene un problema, en este caso un derrame cerebral, por lo que es necesario aumentar el Recall a partir de la reducción del umbral de decisión que por defecto para KNN es 50%."
      ],
      "metadata": {
        "id": "09Bm4AKLgRBZ"
      }
    },
    {
      "cell_type": "code",
      "source": [
        "# Modelo KNN\n",
        "\n",
        "knn_model = KNeighborsClassifier(n_neighbors=k, weights=weight, metric=metric)\n",
        "probs = cross_val_predict(knn_model, X, y, cv=folds, method=\"predict_proba\", n_jobs=3)\n",
        "preds = cross_val_predict(knn_model, X, y, cv=folds, method=\"predict\", n_jobs=3)"
      ],
      "metadata": {
        "id": "qxY1U0y-cG0H"
      },
      "execution_count": null,
      "outputs": []
    },
    {
      "cell_type": "code",
      "source": [
        "from sklearn.metrics import precision_recall_curve\n",
        "\n",
        "precision, recall, threshold = precision_recall_curve(y,probs[:,1])"
      ],
      "metadata": {
        "id": "KL17wiz_cpd0"
      },
      "execution_count": null,
      "outputs": []
    },
    {
      "cell_type": "code",
      "source": [
        "# Gráfica de Recall\n",
        "\n",
        "plt.plot(threshold, recall[:-1], c=\"green\", label=\"Recall\")\n",
        "plt.plot(threshold, precision[:-1], c=\"red\", label=\"Precision\")\n",
        "plt.axvline(0.5, alpha=0.5, c=\"gray\")\n",
        "plt.suptitle(\"Curva Precision vs. Recall\")\n",
        "plt.xlabel(\"Threshold\")\n",
        "plt.legend()\n",
        "plt.show()"
      ],
      "metadata": {
        "colab": {
          "base_uri": "https://localhost:8080/",
          "height": 545
        },
        "id": "LY-T7rDknhmW",
        "outputId": "53765fe3-2393-4416-b5bc-3a44921b6b60"
      },
      "execution_count": null,
      "outputs": [
        {
          "output_type": "display_data",
          "data": {
            "text/plain": [
              "<Figure size 704x528 with 1 Axes>"
            ],
            "image/png": "[encoded data removed]"
          },
          "metadata": {}
        }
      ]
    },
    {
      "cell_type": "markdown",
      "source": [
        "Para mirar el cambio en las clasificaciones, se trabajarán valores de probabilidad superiores a 0.05, superiores a 0.10 y superiores a 0.15 para ver cómo cambian los resultados:"
      ],
      "metadata": {
        "id": "V6vM1Tkna_dG"
      }
    },
    {
      "cell_type": "code",
      "source": [
        "# Cambio de probabilidades para mejorar predicciones\n",
        "\n",
        "df_dict = {\"prob_class0\": probs[:,0],\n",
        "           \"prob_class1\": probs[:,1],\n",
        "           \"preds\":preds}\n",
        "\n",
        "df_probs = pd.DataFrame(df_dict)\n",
        "\n",
        "df_probs[\"preds_05\"] = 0\n",
        "df_probs[\"preds_10\"] = 0\n",
        "df_probs[\"preds_15\"] = 0\n",
        "\n",
        "df_probs.loc[df_probs[\"prob_class1\"]>0.05, \"preds_05\"] = 1\n",
        "df_probs.loc[df_probs[\"prob_class1\"]>0.10, \"preds_10\"] = 1\n",
        "df_probs.loc[df_probs[\"prob_class1\"]>0.15, \"preds_15\"] = 1\n",
        "\n",
        "df_probs"
      ],
      "metadata": {
        "colab": {
          "base_uri": "https://localhost:8080/",
          "height": 423
        },
        "id": "xeCwleQAvABz",
        "outputId": "02076867-83da-4ef9-9caf-6117febb7c72"
      },
      "execution_count": null,
      "outputs": [
        {
          "output_type": "execute_result",
          "data": {
            "text/plain": [
              "      prob_class0  prob_class1  preds  preds_05  preds_10  preds_15\n",
              "0        0.868106     0.131894    0.0         1         1         0\n",
              "1        0.818352     0.181648    0.0         1         1         1\n",
              "2        1.000000     0.000000    0.0         0         0         0\n",
              "3        0.834586     0.165414    0.0         1         1         1\n",
              "4        0.661784     0.338216    0.0         1         1         1\n",
              "...           ...          ...    ...       ...       ...       ...\n",
              "4904     1.000000     0.000000    0.0         0         0         0\n",
              "4905     0.861368     0.138632    0.0         1         1         0\n",
              "4906     1.000000     0.000000    0.0         0         0         0\n",
              "4907     0.844599     0.155401    0.0         1         1         1\n",
              "4908     0.950428     0.049572    0.0         0         0         0\n",
              "\n",
              "[4909 rows x 6 columns]"
            ],
            "text/html": [
              "\n",
              "  <div id=\"df-f6c00298-1119-40aa-81b2-51db5a6a6c97\">\n",
              "    <div class=\"colab-df-container\">\n",
              "      <div>\n",
              "<style scoped>\n",
              "    .dataframe tbody tr th:only-of-type {\n",
              "        vertical-align: middle;\n",
              "    }\n",
              "\n",
              "    .dataframe tbody tr th {\n",
              "        vertical-align: top;\n",
              "    }\n",
              "\n",
              "    .dataframe thead th {\n",
              "        text-align: right;\n",
              "    }\n",
              "</style>\n",
              "<table border=\"1\" class=\"dataframe\">\n",
              "  <thead>\n",
              "    <tr style=\"text-align: right;\">\n",
              "      <th></th>\n",
              "      <th>prob_class0</th>\n",
              "      <th>prob_class1</th>\n",
              "      <th>preds</th>\n",
              "      <th>preds_05</th>\n",
              "      <th>preds_10</th>\n",
              "      <th>preds_15</th>\n",
              "    </tr>\n",
              "  </thead>\n",
              "  <tbody>\n",
              "    <tr>\n",
              "      <th>0</th>\n",
              "      <td>0.868106</td>\n",
              "      <td>0.131894</td>\n",
              "      <td>0.0</td>\n",
              "      <td>1</td>\n",
              "      <td>1</td>\n",
              "      <td>0</td>\n",
              "    </tr>\n",
              "    <tr>\n",
              "      <th>1</th>\n",
              "      <td>0.818352</td>\n",
              "      <td>0.181648</td>\n",
              "      <td>0.0</td>\n",
              "      <td>1</td>\n",
              "      <td>1</td>\n",
              "      <td>1</td>\n",
              "    </tr>\n",
              "    <tr>\n",
              "      <th>2</th>\n",
              "      <td>1.000000</td>\n",
              "      <td>0.000000</td>\n",
              "      <td>0.0</td>\n",
              "      <td>0</td>\n",
              "      <td>0</td>\n",
              "      <td>0</td>\n",
              "    </tr>\n",
              "    <tr>\n",
              "      <th>3</th>\n",
              "      <td>0.834586</td>\n",
              "      <td>0.165414</td>\n",
              "      <td>0.0</td>\n",
              "      <td>1</td>\n",
              "      <td>1</td>\n",
              "      <td>1</td>\n",
              "    </tr>\n",
              "    <tr>\n",
              "      <th>4</th>\n",
              "      <td>0.661784</td>\n",
              "      <td>0.338216</td>\n",
              "      <td>0.0</td>\n",
              "      <td>1</td>\n",
              "      <td>1</td>\n",
              "      <td>1</td>\n",
              "    </tr>\n",
              "    <tr>\n",
              "      <th>...</th>\n",
              "      <td>...</td>\n",
              "      <td>...</td>\n",
              "      <td>...</td>\n",
              "      <td>...</td>\n",
              "      <td>...</td>\n",
              "      <td>...</td>\n",
              "    </tr>\n",
              "    <tr>\n",
              "      <th>4904</th>\n",
              "      <td>1.000000</td>\n",
              "      <td>0.000000</td>\n",
              "      <td>0.0</td>\n",
              "      <td>0</td>\n",
              "      <td>0</td>\n",
              "      <td>0</td>\n",
              "    </tr>\n",
              "    <tr>\n",
              "      <th>4905</th>\n",
              "      <td>0.861368</td>\n",
              "      <td>0.138632</td>\n",
              "      <td>0.0</td>\n",
              "      <td>1</td>\n",
              "      <td>1</td>\n",
              "      <td>0</td>\n",
              "    </tr>\n",
              "    <tr>\n",
              "      <th>4906</th>\n",
              "      <td>1.000000</td>\n",
              "      <td>0.000000</td>\n",
              "      <td>0.0</td>\n",
              "      <td>0</td>\n",
              "      <td>0</td>\n",
              "      <td>0</td>\n",
              "    </tr>\n",
              "    <tr>\n",
              "      <th>4907</th>\n",
              "      <td>0.844599</td>\n",
              "      <td>0.155401</td>\n",
              "      <td>0.0</td>\n",
              "      <td>1</td>\n",
              "      <td>1</td>\n",
              "      <td>1</td>\n",
              "    </tr>\n",
              "    <tr>\n",
              "      <th>4908</th>\n",
              "      <td>0.950428</td>\n",
              "      <td>0.049572</td>\n",
              "      <td>0.0</td>\n",
              "      <td>0</td>\n",
              "      <td>0</td>\n",
              "      <td>0</td>\n",
              "    </tr>\n",
              "  </tbody>\n",
              "</table>\n",
              "<p>4909 rows × 6 columns</p>\n",
              "</div>\n",
              "      <button class=\"colab-df-convert\" onclick=\"convertToInteractive('df-f6c00298-1119-40aa-81b2-51db5a6a6c97')\"\n",
              "              title=\"Convert this dataframe to an interactive table.\"\n",
              "              style=\"display:none;\">\n",
              "        \n",
              "  <svg xmlns=\"http://www.w3.org/2000/svg\" height=\"24px\"viewBox=\"0 0 24 24\"\n",
              "       width=\"24px\">\n",
              "    <path d=\"M0 0h24v24H0V0z\" fill=\"none\"/>\n",
              "    <path d=\"M18.56 5.44l.94 2.06.94-2.06 2.06-.94-2.06-.94-.94-2.06-.94 2.06-2.06.94zm-11 1L8.5 8.5l.94-2.06 2.06-.94-2.06-.94L8.5 2.5l-.94 2.06-2.06.94zm10 10l.94 2.06.94-2.06 2.06-.94-2.06-.94-.94-2.06-.94 2.06-2.06.94z\"/><path d=\"M17.41 7.96l-1.37-1.37c-.4-.4-.92-.59-1.43-.59-.52 0-1.04.2-1.43.59L10.3 9.45l-7.72 7.72c-.78.78-.78 2.05 0 2.83L4 21.41c.39.39.9.59 1.41.59.51 0 1.02-.2 1.41-.59l7.78-7.78 2.81-2.81c.8-.78.8-2.07 0-2.86zM5.41 20L4 18.59l7.72-7.72 1.47 1.35L5.41 20z\"/>\n",
              "  </svg>\n",
              "      </button>\n",
              "      \n",
              "  <style>\n",
              "    .colab-df-container {\n",
              "      display:flex;\n",
              "      flex-wrap:wrap;\n",
              "      gap: 12px;\n",
              "    }\n",
              "\n",
              "    .colab-df-convert {\n",
              "      background-color: #E8F0FE;\n",
              "      border: none;\n",
              "      border-radius: 50%;\n",
              "      cursor: pointer;\n",
              "      display: none;\n",
              "      fill: #1967D2;\n",
              "      height: 32px;\n",
              "      padding: 0 0 0 0;\n",
              "      width: 32px;\n",
              "    }\n",
              "\n",
              "    .colab-df-convert:hover {\n",
              "      background-color: #E2EBFA;\n",
              "      box-shadow: 0px 1px 2px rgba(60, 64, 67, 0.3), 0px 1px 3px 1px rgba(60, 64, 67, 0.15);\n",
              "      fill: #174EA6;\n",
              "    }\n",
              "\n",
              "    [theme=dark] .colab-df-convert {\n",
              "      background-color: #3B4455;\n",
              "      fill: #D2E3FC;\n",
              "    }\n",
              "\n",
              "    [theme=dark] .colab-df-convert:hover {\n",
              "      background-color: #434B5C;\n",
              "      box-shadow: 0px 1px 3px 1px rgba(0, 0, 0, 0.15);\n",
              "      filter: drop-shadow(0px 1px 2px rgba(0, 0, 0, 0.3));\n",
              "      fill: #FFFFFF;\n",
              "    }\n",
              "  </style>\n",
              "\n",
              "      <script>\n",
              "        const buttonEl =\n",
              "          document.querySelector('#df-f6c00298-1119-40aa-81b2-51db5a6a6c97 button.colab-df-convert');\n",
              "        buttonEl.style.display =\n",
              "          google.colab.kernel.accessAllowed ? 'block' : 'none';\n",
              "\n",
              "        async function convertToInteractive(key) {\n",
              "          const element = document.querySelector('#df-f6c00298-1119-40aa-81b2-51db5a6a6c97');\n",
              "          const dataTable =\n",
              "            await google.colab.kernel.invokeFunction('convertToInteractive',\n",
              "                                                     [key], {});\n",
              "          if (!dataTable) return;\n",
              "\n",
              "          const docLinkHtml = 'Like what you see? Visit the ' +\n",
              "            '<a target=\"_blank\" href=https://colab.research.google.com/notebooks/data_table.ipynb>data table notebook</a>'\n",
              "            + ' to learn more about interactive tables.';\n",
              "          element.innerHTML = '';\n",
              "          dataTable['output_type'] = 'display_data';\n",
              "          await google.colab.output.renderOutput(dataTable, element);\n",
              "          const docLink = document.createElement('div');\n",
              "          docLink.innerHTML = docLinkHtml;\n",
              "          element.appendChild(docLink);\n",
              "        }\n",
              "      </script>\n",
              "    </div>\n",
              "  </div>\n",
              "  "
            ]
          },
          "metadata": {},
          "execution_count": 23
        }
      ]
    },
    {
      "cell_type": "code",
      "source": [
        "# Resultados para probabilidad superiores a 0.05\n",
        "\n",
        "preds05 = df_probs[\"preds_05\"].values\n",
        "cm = confusion_matrix(y, preds05)\n",
        "ConfusionMatrixDisplay(confusion_matrix=cm).plot()\n",
        "\n",
        "print(f\"Informe de Clasificación:\\n\"\n",
        "      f\"{classification_report(y, preds05)}\")"
      ],
      "metadata": {
        "colab": {
          "base_uri": "https://localhost:8080/",
          "height": 683
        },
        "id": "XqeUAdjyvhzR",
        "outputId": "63a79b0e-4061-4161-d4e4-2503ddb362c8"
      },
      "execution_count": null,
      "outputs": [
        {
          "output_type": "stream",
          "name": "stdout",
          "text": [
            "Informe de Clasificación:\n",
            "              precision    recall  f1-score   support\n",
            "\n",
            "         0.0       0.98      0.75      0.85      4700\n",
            "         1.0       0.11      0.69      0.19       209\n",
            "\n",
            "    accuracy                           0.74      4909\n",
            "   macro avg       0.54      0.72      0.52      4909\n",
            "weighted avg       0.94      0.74      0.82      4909\n",
            "\n"
          ]
        },
        {
          "output_type": "display_data",
          "data": {
            "text/plain": [
              "<Figure size 704x528 with 2 Axes>"
            ],
            "image/png": "[encoded data removed]"
          },
          "metadata": {}
        }
      ]
    },
    {
      "cell_type": "markdown",
      "source": [
        "Repetir el proceso para los otros valores de probX y hacer enfásis en que tamibien es necesario contemplar los costos involucrados al diagnosticar tantos pacientes como falsos positivos."
      ],
      "metadata": {
        "id": "Q2YqNZ9Fxm0F"
      }
    },
    {
      "cell_type": "code",
      "source": [
        "# Resultados para probabilidad superiores a 0.10\n",
        "\n",
        "preds10 = df_probs[\"preds_10\"].values\n",
        "cm = confusion_matrix(y, preds10)\n",
        "ConfusionMatrixDisplay(confusion_matrix=cm).plot()\n",
        "\n",
        "print(f\"Informe de Clasificación:\\n\"\n",
        "      f\"{classification_report(y, preds10)}\")"
      ],
      "metadata": {
        "colab": {
          "base_uri": "https://localhost:8080/",
          "height": 681
        },
        "id": "40tYegT3lPYp",
        "outputId": "e7249a61-7b7d-4db5-cf9f-7fdecb1e2c16"
      },
      "execution_count": null,
      "outputs": [
        {
          "output_type": "stream",
          "name": "stdout",
          "text": [
            "Informe de Clasificación:\n",
            "              precision    recall  f1-score   support\n",
            "\n",
            "         0.0       0.97      0.85      0.91      4700\n",
            "         1.0       0.13      0.50      0.21       209\n",
            "\n",
            "    accuracy                           0.84      4909\n",
            "   macro avg       0.55      0.68      0.56      4909\n",
            "weighted avg       0.94      0.84      0.88      4909\n",
            "\n"
          ]
        },
        {
          "output_type": "display_data",
          "data": {
            "text/plain": [
              "<Figure size 704x528 with 2 Axes>"
            ],
            "image/png": "[encoded data removed]"
          },
          "metadata": {}
        }
      ]
    },
    {
      "cell_type": "code",
      "source": [
        "# Resultados para probabilidad superiores a 0.15\n",
        "\n",
        "preds15 = df_probs[\"preds_15\"].values\n",
        "cm = confusion_matrix(y, preds15)\n",
        "ConfusionMatrixDisplay(confusion_matrix=cm).plot()\n",
        "\n",
        "print(f\"Informe de Clasificación:\\n\"\n",
        "      f\"{classification_report(y, preds15)}\")"
      ],
      "metadata": {
        "colab": {
          "base_uri": "https://localhost:8080/",
          "height": 677
        },
        "id": "24Jm3cv4lP7w",
        "outputId": "7ee33fcf-5561-4336-a570-a332eaaff08f"
      },
      "execution_count": null,
      "outputs": [
        {
          "output_type": "stream",
          "name": "stdout",
          "text": [
            "Informe de Clasificación:\n",
            "              precision    recall  f1-score   support\n",
            "\n",
            "         0.0       0.97      0.92      0.94      4700\n",
            "         1.0       0.17      0.37      0.23       209\n",
            "\n",
            "    accuracy                           0.90      4909\n",
            "   macro avg       0.57      0.64      0.59      4909\n",
            "weighted avg       0.94      0.90      0.91      4909\n",
            "\n"
          ]
        },
        {
          "output_type": "display_data",
          "data": {
            "text/plain": [
              "<Figure size 704x528 with 2 Axes>"
            ],
            "image/png": "[encoded data removed]"
          },
          "metadata": {}
        }
      ]
    },
    {
      "cell_type": "markdown",
      "source": [],
      "metadata": {
        "id": "3Tv4NRdrgA0m"
      }
    },
    {
      "cell_type": "code",
      "source": [
        "from sklearn.metrics import roc_curve, roc_auc_score\n",
        "\n",
        "y_prob = cross_val_predict(knn_model,\n",
        "                           X,\n",
        "                           y,\n",
        "                           cv=5,\n",
        "                           method='predict_proba')[:, 1]\n",
        "\n",
        "fpr, tpr, thresholds = roc_curve(y, y_prob)\n",
        "\n",
        "auc = roc_auc_score(y, y_prob)"
      ],
      "metadata": {
        "id": "FvSMqtyLenFg"
      },
      "execution_count": null,
      "outputs": []
    },
    {
      "cell_type": "code",
      "source": [
        "# Gráfica ROC curve\n",
        "\n",
        "plt.plot(fpr, tpr, label=f'KNN (AUC = {auc:.2f})')\n",
        "plt.plot([0, 1], [0, 1], 'k--')\n",
        "plt.xlabel('Tasa de Falsos Positivos (FPR)')\n",
        "plt.ylabel('Tasa de Verdaderos Positivos (TPR)')\n",
        "plt.title('Curva ROC - KNN')\n",
        "plt.legend(loc='lower right')\n",
        "plt.show()"
      ],
      "metadata": {
        "colab": {
          "base_uri": "https://localhost:8080/",
          "height": 515
        },
        "id": "fmqz8TAzf40f",
        "outputId": "2e6a87a4-8896-422b-c222-7762db5813b8"
      },
      "execution_count": null,
      "outputs": [
        {
          "output_type": "display_data",
          "data": {
            "text/plain": [
              "<Figure size 704x528 with 1 Axes>"
            ],
            "image/png": "[encoded data removed]"
          },
          "metadata": {}
        }
      ]
    },
    {
      "cell_type": "markdown",
      "source": [
        "Viendo los resultados de las matrices de confusión para los umbrales de clasificación y la gráfica ROC para nuestro modelo, podemos observar un patrón interesante, cuanto menor sea el umbral de probabilidad, habrá una mayor cantidad de verdaderos positivos clasificados por nuestro algoritmo, sin embargo el número de falsos positivos también aumenta en gran cantidad. También a través de la ROC curve se observa que el mejor clasificador que pondemos obtener es uno con una tasa de Falsos positivos de 0.40 y una tasa de verdaders positivos de aproximadamente 0.85. A partir de este punto la reducción de verdaderos positivos desminuye con mucha más rapidez que la tasa de falsos positivos por lo que en este caso, no nos conviene.\n",
        "Cuanto menor sea nuestro umbral de clasificación mayor cantidad de verdaderos positivos obtenemos, pero también mayor cantidad de falsos positivos. Si bien esto podría no ser adecuado, como detector de `strokes` en diferentes personas al primera instancia sería una buena herramienta. Este algoritmo está lejos de poder ser utilizado en casos de vital importancia, con algunos ajustes (inclusión de nuevas variables explicativas, recompilación de más ejemplos, etc.) podría ayudar a un diagnostico preliminar en la detección de accidentes cerebrovasculares."
      ],
      "metadata": {
        "id": "u1oC6a7XhzYK"
      }
    }
  ]
}